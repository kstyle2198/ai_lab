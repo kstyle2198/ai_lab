{
 "cells": [
  {
   "cell_type": "code",
   "execution_count": 1,
   "id": "253ae767",
   "metadata": {},
   "outputs": [
    {
     "data": {
      "text/plain": [
       "True"
      ]
     },
     "execution_count": 1,
     "metadata": {},
     "output_type": "execute_result"
    }
   ],
   "source": [
    "import os\n",
    "from dotenv import load_dotenv\n",
    "load_dotenv(os.path.join(\"..\", \".env\"), override=True)"
   ]
  },
  {
   "cell_type": "code",
   "execution_count": 11,
   "id": "0e0b35ab",
   "metadata": {},
   "outputs": [],
   "source": [
    "import json\n",
    "\n",
    "from rich.console import Console\n",
    "from rich.panel import Panel\n",
    "from rich.text import Text\n",
    "\n",
    "console = Console()\n",
    "\n",
    "\n",
    "def format_message_content(message):\n",
    "    \"\"\"Convert message content to displayable string.\"\"\"\n",
    "    parts = []\n",
    "    tool_calls_processed = False\n",
    "\n",
    "    # Handle main content\n",
    "    if isinstance(message.content, str):\n",
    "        parts.append(message.content)\n",
    "    elif isinstance(message.content, list):\n",
    "        # Handle complex content like tool calls (Anthropic format)\n",
    "        for item in message.content:\n",
    "            if item.get(\"type\") == \"text\":\n",
    "                parts.append(item[\"text\"])\n",
    "            elif item.get(\"type\") == \"tool_use\":\n",
    "                parts.append(f\"\\n🔧 Tool Call: {item['name']}\")\n",
    "                parts.append(f\"   Args: {json.dumps(item['input'], indent=2, ensure_ascii=False)}\")\n",
    "                parts.append(f\"   ID: {item.get('id', 'N/A')}\")\n",
    "                tool_calls_processed = True\n",
    "    else:\n",
    "        parts.append(str(message.content))\n",
    "\n",
    "    # Handle tool calls attached to the message (OpenAI format) - only if not already processed\n",
    "    if (\n",
    "        not tool_calls_processed\n",
    "        and hasattr(message, \"tool_calls\")\n",
    "        and message.tool_calls\n",
    "    ):\n",
    "        for tool_call in message.tool_calls:\n",
    "            parts.append(f\"\\n🔧 Tool Call: {tool_call['name']}\")\n",
    "            parts.append(f\"   Args: {json.dumps(tool_call['args'], indent=2, ensure_ascii=False)}\")\n",
    "            parts.append(f\"   ID: {tool_call['id']}\")\n",
    "\n",
    "    return \"\\n\".join(parts)\n",
    "\n",
    "\n",
    "def format_messages(messages):\n",
    "    \"\"\"Format and display a list of messages with Rich formatting.\"\"\"\n",
    "    for m in messages:\n",
    "        msg_type = m.__class__.__name__.replace(\"Message\", \"\")\n",
    "        content = format_message_content(m)\n",
    "\n",
    "        if msg_type == \"Human\":\n",
    "            console.print(Panel(content, title=\"🧑 Human\", border_style=\"blue\"))\n",
    "        elif msg_type == \"Ai\":\n",
    "            console.print(Panel(content, title=\"🤖 Assistant\", border_style=\"green\"))\n",
    "        elif msg_type == \"Tool\":\n",
    "            console.print(Panel(content, title=\"🔧 Tool Output\", border_style=\"yellow\"))\n",
    "        else:\n",
    "            console.print(Panel(content, title=f\"📝 {msg_type}\", border_style=\"white\"))\n",
    "\n",
    "\n",
    "def format_message(messages):\n",
    "    \"\"\"Alias for format_messages for backward compatibility.\"\"\"\n",
    "    return format_messages(messages)\n",
    "\n",
    "\n",
    "def show_prompt(prompt_text: str, title: str = \"Prompt\", border_style: str = \"blue\"):\n",
    "    \"\"\"Display a prompt with rich formatting and XML tag highlighting.\n",
    "\n",
    "    Args:\n",
    "        prompt_text: The prompt string to display\n",
    "        title: Title for the panel (default: \"Prompt\")\n",
    "        border_style: Border color style (default: \"blue\")\n",
    "    \"\"\"\n",
    "    # Create a formatted display of the prompt\n",
    "    formatted_text = Text(prompt_text)\n",
    "    formatted_text.highlight_regex(r\"<[^>]+>\", style=\"bold blue\")  # Highlight XML tags\n",
    "    formatted_text.highlight_regex(\n",
    "        r\"##[^#\\n]+\", style=\"bold magenta\"\n",
    "    )  # Highlight headers\n",
    "    formatted_text.highlight_regex(\n",
    "        r\"###[^#\\n]+\", style=\"bold cyan\"\n",
    "    )  # Highlight sub-headers\n",
    "\n",
    "    # Display in a panel for better presentation\n",
    "    console.print(\n",
    "        Panel(\n",
    "            formatted_text,\n",
    "            title=f\"[bold green]{title}[/bold green]\",\n",
    "            border_style=border_style,\n",
    "            padding=(1, 2),\n",
    "        )\n",
    "    )\n",
    "\n",
    "# more expressive runner\n",
    "async def stream_agent(agent, query, config=None):\n",
    "    async for graph_name, stream_mode, event in agent.astream(\n",
    "        query,\n",
    "        stream_mode=[\"updates\", \"values\"], \n",
    "        subgraphs=True,\n",
    "        config=config\n",
    "    ):\n",
    "        if stream_mode == \"updates\":\n",
    "            print(f'Graph: {graph_name if len(graph_name) > 0 else \"root\"}')\n",
    "            \n",
    "            node, result = list(event.items())[0]\n",
    "            print(f'Node: {node}')\n",
    "            \n",
    "            for key in result.keys():\n",
    "                if \"messages\" in key:\n",
    "                    # print(f\"Messages key: {key}\")\n",
    "                    format_messages(result[key])\n",
    "                    break\n",
    "        elif stream_mode == \"values\":\n",
    "            current_state = event\n",
    "\n",
    "    return current_state"
   ]
  },
  {
   "cell_type": "code",
   "execution_count": null,
   "id": "3267d8ed",
   "metadata": {},
   "outputs": [
    {
     "data": {
      "image/png": "[encoded data removed]",
      "text/plain": [
       "<IPython.core.display.Image object>"
      ]
     },
     "metadata": {},
     "output_type": "display_data"
    }
   ],
   "source": [
    "from typing import Annotated, List, Literal, Union\n",
    "\n",
    "from langchain_core.messages import ToolMessage\n",
    "from langchain_core.tools import InjectedToolCallId, tool\n",
    "from langgraph.prebuilt import InjectedState\n",
    "from langgraph.types import Command\n",
    "\n",
    "\n",
    "@tool\n",
    "def calculator(\n",
    "    operation: Literal[\"add\",\"subtract\",\"multiply\",\"divide\"],\n",
    "    a: Union[int, float],\n",
    "    b: Union[int, float],\n",
    ") -> Union[int, float]:\n",
    "    \"\"\"Define a two-input calculator tool.\n",
    "\n",
    "    Arg:\n",
    "        operation (str): The operation to perform ('add', 'subtract', 'multiply', 'divide').\n",
    "        a (float or int): The first number.\n",
    "        b (float or int): The second number.\n",
    "        \n",
    "    Returns:\n",
    "        result (float or int): the result of the operation\n",
    "    Example\n",
    "        Divide: result   = a / b\n",
    "        Subtract: result = a - b\n",
    "    \"\"\"\n",
    "    if operation == 'divide' and b == 0:\n",
    "        return {\"error\": \"Division by zero is not allowed.\"}\n",
    "\n",
    "    # Perform calculation\n",
    "    if operation == 'add':\n",
    "        result = a + b\n",
    "    elif operation == 'subtract':\n",
    "        result = a - b\n",
    "    elif operation == 'multiply':\n",
    "        result = a * b\n",
    "    elif operation == 'divide':\n",
    "        result = a / b\n",
    "    else: \n",
    "        result = \"unknown operation\"\n",
    "    return result\n",
    "\n",
    "from IPython.display import Image, display\n",
    "from langchain.chat_models import init_chat_model\n",
    "from langchain_groq import ChatGroq\n",
    "from langchain_core.tools import tool\n",
    "from langgraph.prebuilt import create_react_agent\n",
    "# Create agent using create_react_agent directly\n",
    "\n",
    "SYSTEM_PROMPT = \"You are a helpful arithmetic assistant who is an expert at using a calculator.\"\n",
    "\n",
    "model = ChatGroq(temperature=0, model_name= \"qwen/qwen3-32b\")\n",
    "tools = [calculator]\n",
    "\n",
    "# Create agent\n",
    "agent = create_react_agent(\n",
    "    model,\n",
    "    tools,\n",
    "    prompt=SYSTEM_PROMPT,\n",
    "    # state_schema=AgentState,  # default\n",
    ").with_config({\"recursion_limit\": 20})  #recursion_limit limits the number of steps the agent will run\n",
    "\n",
    "# Show the agent\n",
    "display(Image(agent.get_graph(xray=True).draw_mermaid_png()))\n",
    "\n"
   ]
  },
  {
   "cell_type": "code",
   "execution_count": null,
   "id": "07eb9473",
   "metadata": {},
   "outputs": [
    {
     "data": {
      "text/plain": [
       "{'messages': [HumanMessage(content='What is 3.1 * 4.2?', additional_kwargs={}, response_metadata={}, id='fef7eda8-28b0-4dfe-9408-730d0377bce9'),\n",
       "  AIMessage(content='', additional_kwargs={'tool_calls': [{'id': 'c2rq6ca6c', 'function': {'arguments': '{\"a\":3.1,\"b\":4.2,\"operation\":\"multiply\"}', 'name': 'calculator'}, 'type': 'function'}]}, response_metadata={'token_usage': {'completion_tokens': 156, 'prompt_tokens': 365, 'total_tokens': 521, 'completion_time': 0.282763561, 'prompt_time': 0.019959742, 'queue_time': 0.205630128, 'total_time': 0.302723303}, 'model_name': 'qwen/qwen3-32b', 'system_fingerprint': 'fp_5cf921caa2', 'finish_reason': 'tool_calls', 'logprobs': None}, id='run--ea28294c-5ab2-4710-bcca-a12559235756-0', tool_calls=[{'name': 'calculator', 'args': {'a': 3.1, 'b': 4.2, 'operation': 'multiply'}, 'id': 'c2rq6ca6c', 'type': 'tool_call'}], usage_metadata={'input_tokens': 365, 'output_tokens': 156, 'total_tokens': 521}),\n",
       "  ToolMessage(content='13.020000000000001', name='calculator', id='6b6cc2d7-e7c1-4916-9703-07e071c0bd9a', tool_call_id='c2rq6ca6c'),\n",
       "  AIMessage(content='The result of multiplying 3.1 by 4.2 is **13.02**. \\n\\nThe slight decimal imprecision (e.g., 13.020000000000001) is due to how computers handle floating-point arithmetic, but the correct answer is effectively **13.02**.', additional_kwargs={}, response_metadata={'token_usage': {'completion_tokens': 306, 'prompt_tokens': 431, 'total_tokens': 737, 'completion_time': 1.152139091, 'prompt_time': 0.027519135, 'queue_time': 0.212352353, 'total_time': 1.179658226}, 'model_name': 'qwen/qwen3-32b', 'system_fingerprint': 'fp_5cf921caa2', 'finish_reason': 'stop', 'logprobs': None}, id='run--7b61b8b6-e18c-4843-b213-c90d3b0723fc-0', usage_metadata={'input_tokens': 431, 'output_tokens': 306, 'total_tokens': 737})]}"
      ]
     },
     "execution_count": 10,
     "metadata": {},
     "output_type": "execute_result"
    }
   ],
   "source": [
    "# Example usage\n",
    "result1 = agent.invoke(\n",
    "    {\n",
    "        \"messages\": [\n",
    "            {\n",
    "                \"role\": \"user\",\n",
    "                \"content\": \"What is 3.1 * 4.2?\",\n",
    "            }\n",
    "        ],\n",
    "    }\n",
    ")\n",
    "\n",
    "result1"
   ]
  },
  {
   "cell_type": "code",
   "execution_count": 12,
   "id": "cecac08f",
   "metadata": {},
   "outputs": [
    {
     "data": {
      "text/html": [
       "<pre style=\"white-space:pre;overflow-x:auto;line-height:normal;font-family:Menlo,'DejaVu Sans Mono',consolas,'Courier New',monospace\"><span style=\"color: #000080; text-decoration-color: #000080\">╭─────────────────────────────────────────────────── 🧑 Human ────────────────────────────────────────────────────╮</span>\n",
       "<span style=\"color: #000080; text-decoration-color: #000080\">│</span> What is 3.1 * 4.2?                                                                                              <span style=\"color: #000080; text-decoration-color: #000080\">│</span>\n",
       "<span style=\"color: #000080; text-decoration-color: #000080\">╰─────────────────────────────────────────────────────────────────────────────────────────────────────────────────╯</span>\n",
       "</pre>\n"
      ],
      "text/plain": [
       "\u001b[34m╭─\u001b[0m\u001b[34m──────────────────────────────────────────────────\u001b[0m\u001b[34m 🧑 Human \u001b[0m\u001b[34m───────────────────────────────────────────────────\u001b[0m\u001b[34m─╮\u001b[0m\n",
       "\u001b[34m│\u001b[0m What is 3.1 * 4.2?                                                                                              \u001b[34m│\u001b[0m\n",
       "\u001b[34m╰─────────────────────────────────────────────────────────────────────────────────────────────────────────────────╯\u001b[0m\n"
      ]
     },
     "metadata": {},
     "output_type": "display_data"
    },
    {
     "data": {
      "text/html": [
       "<pre style=\"white-space:pre;overflow-x:auto;line-height:normal;font-family:Menlo,'DejaVu Sans Mono',consolas,'Courier New',monospace\"><span style=\"color: #c0c0c0; text-decoration-color: #c0c0c0\">╭───────────────────────────────────────────────────── 📝 AI ─────────────────────────────────────────────────────╮</span>\n",
       "<span style=\"color: #c0c0c0; text-decoration-color: #c0c0c0\">│</span>                                                                                                                 <span style=\"color: #c0c0c0; text-decoration-color: #c0c0c0\">│</span>\n",
       "<span style=\"color: #c0c0c0; text-decoration-color: #c0c0c0\">│</span>                                                                                                                 <span style=\"color: #c0c0c0; text-decoration-color: #c0c0c0\">│</span>\n",
       "<span style=\"color: #c0c0c0; text-decoration-color: #c0c0c0\">│</span> 🔧 Tool Call: calculator                                                                                        <span style=\"color: #c0c0c0; text-decoration-color: #c0c0c0\">│</span>\n",
       "<span style=\"color: #c0c0c0; text-decoration-color: #c0c0c0\">│</span>    Args: {                                                                                                      <span style=\"color: #c0c0c0; text-decoration-color: #c0c0c0\">│</span>\n",
       "<span style=\"color: #c0c0c0; text-decoration-color: #c0c0c0\">│</span>   \"a\": 3.1,                                                                                                     <span style=\"color: #c0c0c0; text-decoration-color: #c0c0c0\">│</span>\n",
       "<span style=\"color: #c0c0c0; text-decoration-color: #c0c0c0\">│</span>   \"b\": 4.2,                                                                                                     <span style=\"color: #c0c0c0; text-decoration-color: #c0c0c0\">│</span>\n",
       "<span style=\"color: #c0c0c0; text-decoration-color: #c0c0c0\">│</span>   \"operation\": \"multiply\"                                                                                       <span style=\"color: #c0c0c0; text-decoration-color: #c0c0c0\">│</span>\n",
       "<span style=\"color: #c0c0c0; text-decoration-color: #c0c0c0\">│</span> }                                                                                                               <span style=\"color: #c0c0c0; text-decoration-color: #c0c0c0\">│</span>\n",
       "<span style=\"color: #c0c0c0; text-decoration-color: #c0c0c0\">│</span>    ID: c2rq6ca6c                                                                                                <span style=\"color: #c0c0c0; text-decoration-color: #c0c0c0\">│</span>\n",
       "<span style=\"color: #c0c0c0; text-decoration-color: #c0c0c0\">╰─────────────────────────────────────────────────────────────────────────────────────────────────────────────────╯</span>\n",
       "</pre>\n"
      ],
      "text/plain": [
       "\u001b[37m╭─\u001b[0m\u001b[37m────────────────────────────────────────────────────\u001b[0m\u001b[37m 📝 AI \u001b[0m\u001b[37m────────────────────────────────────────────────────\u001b[0m\u001b[37m─╮\u001b[0m\n",
       "\u001b[37m│\u001b[0m                                                                                                                 \u001b[37m│\u001b[0m\n",
       "\u001b[37m│\u001b[0m                                                                                                                 \u001b[37m│\u001b[0m\n",
       "\u001b[37m│\u001b[0m 🔧 Tool Call: calculator                                                                                        \u001b[37m│\u001b[0m\n",
       "\u001b[37m│\u001b[0m    Args: {                                                                                                      \u001b[37m│\u001b[0m\n",
       "\u001b[37m│\u001b[0m   \"a\": 3.1,                                                                                                     \u001b[37m│\u001b[0m\n",
       "\u001b[37m│\u001b[0m   \"b\": 4.2,                                                                                                     \u001b[37m│\u001b[0m\n",
       "\u001b[37m│\u001b[0m   \"operation\": \"multiply\"                                                                                       \u001b[37m│\u001b[0m\n",
       "\u001b[37m│\u001b[0m }                                                                                                               \u001b[37m│\u001b[0m\n",
       "\u001b[37m│\u001b[0m    ID: c2rq6ca6c                                                                                                \u001b[37m│\u001b[0m\n",
       "\u001b[37m╰─────────────────────────────────────────────────────────────────────────────────────────────────────────────────╯\u001b[0m\n"
      ]
     },
     "metadata": {},
     "output_type": "display_data"
    },
    {
     "data": {
      "text/html": [
       "<pre style=\"white-space:pre;overflow-x:auto;line-height:normal;font-family:Menlo,'DejaVu Sans Mono',consolas,'Courier New',monospace\"><span style=\"color: #808000; text-decoration-color: #808000\">╭──────────────────────────────────────────────── 🔧 Tool Output ─────────────────────────────────────────────────╮</span>\n",
       "<span style=\"color: #808000; text-decoration-color: #808000\">│</span> 13.020000000000001                                                                                              <span style=\"color: #808000; text-decoration-color: #808000\">│</span>\n",
       "<span style=\"color: #808000; text-decoration-color: #808000\">╰─────────────────────────────────────────────────────────────────────────────────────────────────────────────────╯</span>\n",
       "</pre>\n"
      ],
      "text/plain": [
       "\u001b[33m╭─\u001b[0m\u001b[33m───────────────────────────────────────────────\u001b[0m\u001b[33m 🔧 Tool Output \u001b[0m\u001b[33m────────────────────────────────────────────────\u001b[0m\u001b[33m─╮\u001b[0m\n",
       "\u001b[33m│\u001b[0m 13.020000000000001                                                                                              \u001b[33m│\u001b[0m\n",
       "\u001b[33m╰─────────────────────────────────────────────────────────────────────────────────────────────────────────────────╯\u001b[0m\n"
      ]
     },
     "metadata": {},
     "output_type": "display_data"
    },
    {
     "data": {
      "text/html": [
       "<pre style=\"white-space:pre;overflow-x:auto;line-height:normal;font-family:Menlo,'DejaVu Sans Mono',consolas,'Courier New',monospace\"><span style=\"color: #c0c0c0; text-decoration-color: #c0c0c0\">╭───────────────────────────────────────────────────── 📝 AI ─────────────────────────────────────────────────────╮</span>\n",
       "<span style=\"color: #c0c0c0; text-decoration-color: #c0c0c0\">│</span> The result of multiplying 3.1 by 4.2 is **13.02**.                                                              <span style=\"color: #c0c0c0; text-decoration-color: #c0c0c0\">│</span>\n",
       "<span style=\"color: #c0c0c0; text-decoration-color: #c0c0c0\">│</span>                                                                                                                 <span style=\"color: #c0c0c0; text-decoration-color: #c0c0c0\">│</span>\n",
       "<span style=\"color: #c0c0c0; text-decoration-color: #c0c0c0\">│</span> The slight decimal imprecision (e.g., 13.020000000000001) is due to how computers handle floating-point         <span style=\"color: #c0c0c0; text-decoration-color: #c0c0c0\">│</span>\n",
       "<span style=\"color: #c0c0c0; text-decoration-color: #c0c0c0\">│</span> arithmetic, but the correct answer is effectively **13.02**.                                                    <span style=\"color: #c0c0c0; text-decoration-color: #c0c0c0\">│</span>\n",
       "<span style=\"color: #c0c0c0; text-decoration-color: #c0c0c0\">╰─────────────────────────────────────────────────────────────────────────────────────────────────────────────────╯</span>\n",
       "</pre>\n"
      ],
      "text/plain": [
       "\u001b[37m╭─\u001b[0m\u001b[37m────────────────────────────────────────────────────\u001b[0m\u001b[37m 📝 AI \u001b[0m\u001b[37m────────────────────────────────────────────────────\u001b[0m\u001b[37m─╮\u001b[0m\n",
       "\u001b[37m│\u001b[0m The result of multiplying 3.1 by 4.2 is **13.02**.                                                              \u001b[37m│\u001b[0m\n",
       "\u001b[37m│\u001b[0m                                                                                                                 \u001b[37m│\u001b[0m\n",
       "\u001b[37m│\u001b[0m The slight decimal imprecision (e.g., 13.020000000000001) is due to how computers handle floating-point         \u001b[37m│\u001b[0m\n",
       "\u001b[37m│\u001b[0m arithmetic, but the correct answer is effectively **13.02**.                                                    \u001b[37m│\u001b[0m\n",
       "\u001b[37m╰─────────────────────────────────────────────────────────────────────────────────────────────────────────────────╯\u001b[0m\n"
      ]
     },
     "metadata": {},
     "output_type": "display_data"
    }
   ],
   "source": [
    "format_messages(result1[\"messages\"])"
   ]
  },
  {
   "cell_type": "code",
   "execution_count": 14,
   "id": "db3c9821",
   "metadata": {},
   "outputs": [
    {
     "data": {
      "text/plain": [
       "[HumanMessage(content='What is 3.1 * 4.2?', additional_kwargs={}, response_metadata={}, id='fef7eda8-28b0-4dfe-9408-730d0377bce9'),\n",
       " AIMessage(content='', additional_kwargs={'tool_calls': [{'id': 'c2rq6ca6c', 'function': {'arguments': '{\"a\":3.1,\"b\":4.2,\"operation\":\"multiply\"}', 'name': 'calculator'}, 'type': 'function'}]}, response_metadata={'token_usage': {'completion_tokens': 156, 'prompt_tokens': 365, 'total_tokens': 521, 'completion_time': 0.282763561, 'prompt_time': 0.019959742, 'queue_time': 0.205630128, 'total_time': 0.302723303}, 'model_name': 'qwen/qwen3-32b', 'system_fingerprint': 'fp_5cf921caa2', 'finish_reason': 'tool_calls', 'logprobs': None}, id='run--ea28294c-5ab2-4710-bcca-a12559235756-0', tool_calls=[{'name': 'calculator', 'args': {'a': 3.1, 'b': 4.2, 'operation': 'multiply'}, 'id': 'c2rq6ca6c', 'type': 'tool_call'}], usage_metadata={'input_tokens': 365, 'output_tokens': 156, 'total_tokens': 521}),\n",
       " ToolMessage(content='13.020000000000001', name='calculator', id='6b6cc2d7-e7c1-4916-9703-07e071c0bd9a', tool_call_id='c2rq6ca6c'),\n",
       " AIMessage(content='The result of multiplying 3.1 by 4.2 is **13.02**. \\n\\nThe slight decimal imprecision (e.g., 13.020000000000001) is due to how computers handle floating-point arithmetic, but the correct answer is effectively **13.02**.', additional_kwargs={}, response_metadata={'token_usage': {'completion_tokens': 306, 'prompt_tokens': 431, 'total_tokens': 737, 'completion_time': 1.152139091, 'prompt_time': 0.027519135, 'queue_time': 0.212352353, 'total_time': 1.179658226}, 'model_name': 'qwen/qwen3-32b', 'system_fingerprint': 'fp_5cf921caa2', 'finish_reason': 'stop', 'logprobs': None}, id='run--7b61b8b6-e18c-4843-b213-c90d3b0723fc-0', usage_metadata={'input_tokens': 431, 'output_tokens': 306, 'total_tokens': 737})]"
      ]
     },
     "execution_count": 14,
     "metadata": {},
     "output_type": "execute_result"
    }
   ],
   "source": [
    "result1[\"messages\"]"
   ]
  },
  {
   "cell_type": "code",
   "execution_count": 16,
   "id": "9fe3db48",
   "metadata": {},
   "outputs": [
    {
     "name": "stdout",
     "output_type": "stream",
     "text": [
      "<class 'dict'>\n"
     ]
    },
    {
     "data": {
      "text/plain": [
       "{'messages': [{'type': 'human',\n",
       "   'data': {'content': 'What is 3.1 * 4.2?',\n",
       "    'additional_kwargs': {},\n",
       "    'response_metadata': {},\n",
       "    'type': 'human',\n",
       "    'name': None,\n",
       "    'id': 'fef7eda8-28b0-4dfe-9408-730d0377bce9',\n",
       "    'example': False}},\n",
       "  {'type': 'ai',\n",
       "   'data': {'content': '',\n",
       "    'additional_kwargs': {'tool_calls': [{'id': 'c2rq6ca6c',\n",
       "       'function': {'arguments': '{\"a\":3.1,\"b\":4.2,\"operation\":\"multiply\"}',\n",
       "        'name': 'calculator'},\n",
       "       'type': 'function'}]},\n",
       "    'response_metadata': {'token_usage': {'completion_tokens': 156,\n",
       "      'prompt_tokens': 365,\n",
       "      'total_tokens': 521,\n",
       "      'completion_time': 0.282763561,\n",
       "      'prompt_time': 0.019959742,\n",
       "      'queue_time': 0.205630128,\n",
       "      'total_time': 0.302723303},\n",
       "     'model_name': 'qwen/qwen3-32b',\n",
       "     'system_fingerprint': 'fp_5cf921caa2',\n",
       "     'finish_reason': 'tool_calls',\n",
       "     'logprobs': None},\n",
       "    'type': 'ai',\n",
       "    'name': None,\n",
       "    'id': 'run--ea28294c-5ab2-4710-bcca-a12559235756-0',\n",
       "    'example': False,\n",
       "    'tool_calls': [{'name': 'calculator',\n",
       "      'args': {'a': 3.1, 'b': 4.2, 'operation': 'multiply'},\n",
       "      'id': 'c2rq6ca6c',\n",
       "      'type': 'tool_call'}],\n",
       "    'invalid_tool_calls': [],\n",
       "    'usage_metadata': {'input_tokens': 365,\n",
       "     'output_tokens': 156,\n",
       "     'total_tokens': 521}}},\n",
       "  {'type': 'tool',\n",
       "   'data': {'content': '13.020000000000001',\n",
       "    'additional_kwargs': {},\n",
       "    'response_metadata': {},\n",
       "    'type': 'tool',\n",
       "    'name': 'calculator',\n",
       "    'id': '6b6cc2d7-e7c1-4916-9703-07e071c0bd9a',\n",
       "    'tool_call_id': 'c2rq6ca6c',\n",
       "    'artifact': None,\n",
       "    'status': 'success'}},\n",
       "  {'type': 'ai',\n",
       "   'data': {'content': 'The result of multiplying 3.1 by 4.2 is **13.02**. \\n\\nThe slight decimal imprecision (e.g., 13.020000000000001) is due to how computers handle floating-point arithmetic, but the correct answer is effectively **13.02**.',\n",
       "    'additional_kwargs': {},\n",
       "    'response_metadata': {'token_usage': {'completion_tokens': 306,\n",
       "      'prompt_tokens': 431,\n",
       "      'total_tokens': 737,\n",
       "      'completion_time': 1.152139091,\n",
       "      'prompt_time': 0.027519135,\n",
       "      'queue_time': 0.212352353,\n",
       "      'total_time': 1.179658226},\n",
       "     'model_name': 'qwen/qwen3-32b',\n",
       "     'system_fingerprint': 'fp_5cf921caa2',\n",
       "     'finish_reason': 'stop',\n",
       "     'logprobs': None},\n",
       "    'type': 'ai',\n",
       "    'name': None,\n",
       "    'id': 'run--7b61b8b6-e18c-4843-b213-c90d3b0723fc-0',\n",
       "    'example': False,\n",
       "    'tool_calls': [],\n",
       "    'invalid_tool_calls': [],\n",
       "    'usage_metadata': {'input_tokens': 431,\n",
       "     'output_tokens': 306,\n",
       "     'total_tokens': 737}}}]}"
      ]
     },
     "execution_count": 16,
     "metadata": {},
     "output_type": "execute_result"
    }
   ],
   "source": [
    "from IPython.display import JSON\n",
    "from langchain_core.messages import messages_to_dict\n",
    "\n",
    "res = {\"messages\": messages_to_dict(result1[\"messages\"])}\n",
    "print(type(res))\n",
    "res"
   ]
  },
  {
   "cell_type": "code",
   "execution_count": 18,
   "id": "06842b84",
   "metadata": {},
   "outputs": [
    {
     "name": "stdout",
     "output_type": "stream",
     "text": [
      "<class 'IPython.core.display.JSON'>\n"
     ]
    },
    {
     "data": {
      "application/json": {
       "messages": [
        {
         "data": {
          "additional_kwargs": {},
          "content": "What is 3.1 * 4.2?",
          "example": false,
          "id": "fef7eda8-28b0-4dfe-9408-730d0377bce9",
          "name": null,
          "response_metadata": {},
          "type": "human"
         },
         "type": "human"
        },
        {
         "data": {
          "additional_kwargs": {
           "tool_calls": [
            {
             "function": {
              "arguments": "{\"a\":3.1,\"b\":4.2,\"operation\":\"multiply\"}",
              "name": "calculator"
             },
             "id": "c2rq6ca6c",
             "type": "function"
            }
           ]
          },
          "content": "",
          "example": false,
          "id": "run--ea28294c-5ab2-4710-bcca-a12559235756-0",
          "invalid_tool_calls": [],
          "name": null,
          "response_metadata": {
           "finish_reason": "tool_calls",
           "logprobs": null,
           "model_name": "qwen/qwen3-32b",
           "system_fingerprint": "fp_5cf921caa2",
           "token_usage": {
            "completion_time": 0.282763561,
            "completion_tokens": 156,
            "prompt_time": 0.019959742,
            "prompt_tokens": 365,
            "queue_time": 0.205630128,
            "total_time": 0.302723303,
            "total_tokens": 521
           }
          },
          "tool_calls": [
           {
            "args": {
             "a": 3.1,
             "b": 4.2,
             "operation": "multiply"
            },
            "id": "c2rq6ca6c",
            "name": "calculator",
            "type": "tool_call"
           }
          ],
          "type": "ai",
          "usage_metadata": {
           "input_tokens": 365,
           "output_tokens": 156,
           "total_tokens": 521
          }
         },
         "type": "ai"
        },
        {
         "data": {
          "additional_kwargs": {},
          "artifact": null,
          "content": "13.020000000000001",
          "id": "6b6cc2d7-e7c1-4916-9703-07e071c0bd9a",
          "name": "calculator",
          "response_metadata": {},
          "status": "success",
          "tool_call_id": "c2rq6ca6c",
          "type": "tool"
         },
         "type": "tool"
        },
        {
         "data": {
          "additional_kwargs": {},
          "content": "The result of multiplying 3.1 by 4.2 is **13.02**. \n\nThe slight decimal imprecision (e.g., 13.020000000000001) is due to how computers handle floating-point arithmetic, but the correct answer is effectively **13.02**.",
          "example": false,
          "id": "run--7b61b8b6-e18c-4843-b213-c90d3b0723fc-0",
          "invalid_tool_calls": [],
          "name": null,
          "response_metadata": {
           "finish_reason": "stop",
           "logprobs": null,
           "model_name": "qwen/qwen3-32b",
           "system_fingerprint": "fp_5cf921caa2",
           "token_usage": {
            "completion_time": 1.152139091,
            "completion_tokens": 306,
            "prompt_time": 0.027519135,
            "prompt_tokens": 431,
            "queue_time": 0.212352353,
            "total_time": 1.179658226,
            "total_tokens": 737
           }
          },
          "tool_calls": [],
          "type": "ai",
          "usage_metadata": {
           "input_tokens": 431,
           "output_tokens": 306,
           "total_tokens": 737
          }
         },
         "type": "ai"
        }
       ]
      },
      "text/plain": [
       "<IPython.core.display.JSON object>"
      ]
     },
     "execution_count": 18,
     "metadata": {
      "application/json": {
       "expanded": false,
       "root": "root"
      }
     },
     "output_type": "execute_result"
    }
   ],
   "source": [
    "res2 = JSON(res)\n",
    "print(type(res2))\n",
    "res2"
   ]
  },
  {
   "cell_type": "code",
   "execution_count": null,
   "id": "d4af4d54",
   "metadata": {},
   "outputs": [
    {
     "data": {
      "text/plain": [
       "dict_keys([])"
      ]
     },
     "execution_count": 27,
     "metadata": {},
     "output_type": "execute_result"
    }
   ],
   "source": []
  },
  {
   "cell_type": "code",
   "execution_count": 19,
   "id": "808b871d",
   "metadata": {},
   "outputs": [],
   "source": [
    "from langgraph.prebuilt.chat_agent_executor import AgentState\n",
    "\n",
    "def reduce_list(left: list | None, right: list | None) -> list:\n",
    "    \"\"\"Safely combine two lists, handling cases where either or both inputs might be None.\n",
    "\n",
    "    Args:\n",
    "        left (list | None): The first list to combine, or None.\n",
    "        right (list | None): The second list to combine, or None.\n",
    "\n",
    "    Returns:\n",
    "        list: A new list containing all elements from both input lists.\n",
    "               If an input is None, it's treated as an empty list.\n",
    "    \"\"\"\n",
    "    if not left:\n",
    "        left = []\n",
    "    if not right:\n",
    "        right = []\n",
    "    return left + right\n",
    "\n",
    "class CalcState(AgentState):\n",
    "    \"\"\"Graph State.\"\"\"\n",
    "    ops: Annotated[List[str], reduce_list]\n",
    "\n"
   ]
  },
  {
   "cell_type": "code",
   "execution_count": 20,
   "id": "9c458a11",
   "metadata": {},
   "outputs": [],
   "source": [
    "@tool\n",
    "def calculator_wstate(\n",
    "    operation: Literal[\"add\",\"subtract\",\"multiply\",\"divide\"],\n",
    "    a: Union[int, float],\n",
    "    b: Union[int, float],\n",
    "    state: Annotated[CalcState, InjectedState],   # not sent to LLM\n",
    "    tool_call_id: Annotated[str, InjectedToolCallId] # not sent to LLM\n",
    ") -> Union[int, float]:\n",
    "    \"\"\"Define a two-input calculator tool.\n",
    "\n",
    "    Arg:\n",
    "        operation (str): The operation to perform ('add', 'subtract', 'multiply', 'divide').\n",
    "        a (float or int): The first number.\n",
    "        b (float or int): The second number.\n",
    "        \n",
    "    Returns:\n",
    "        result (float or int): the result of the operation\n",
    "    Example\n",
    "        Divide: result   = a / b\n",
    "        Subtract: result = a - b\n",
    "    \"\"\"\n",
    "    if operation == 'divide' and b == 0:\n",
    "        return {\"error\": \"Division by zero is not allowed.\"}\n",
    "\n",
    "    # Perform calculation\n",
    "    if operation == 'add':\n",
    "        result = a + b\n",
    "    elif operation == 'subtract':\n",
    "        result = a - b\n",
    "    elif operation == 'multiply':\n",
    "        result = a * b\n",
    "    elif operation == 'divide':\n",
    "        result = a / b\n",
    "    else: \n",
    "        result = \"unknown operation\"\n",
    "    ops = [f\"({operation}, {a}, {b}),\" ]\n",
    "    return Command(\n",
    "        update={\n",
    "            \"ops\": ops,\n",
    "            \"messages\": [\n",
    "                ToolMessage(f\"{result}\", tool_call_id=tool_call_id)\n",
    "            ],\n",
    "        }\n",
    "    )"
   ]
  },
  {
   "cell_type": "code",
   "execution_count": 22,
   "id": "cdff9104",
   "metadata": {},
   "outputs": [],
   "source": [
    "SYSTEM_PROMPT = \"You are a helpful arithmetic assistant who is an expert at using a calculator.\"\n",
    "\n",
    "tools = [calculator_wstate]  # new tool\n",
    "\n",
    "# Create agent\n",
    "agent = create_react_agent(\n",
    "    model,\n",
    "    tools,\n",
    "    prompt=SYSTEM_PROMPT,\n",
    "    state_schema=CalcState,  # now defining state scheme\n",
    ").with_config({\"recursion_limit\": 20})  #recursion_limit limits the number of steps the agent will run"
   ]
  },
  {
   "cell_type": "code",
   "execution_count": 28,
   "id": "a73baed7",
   "metadata": {},
   "outputs": [
    {
     "data": {
      "text/html": [
       "<pre style=\"white-space:pre;overflow-x:auto;line-height:normal;font-family:Menlo,'DejaVu Sans Mono',consolas,'Courier New',monospace\"><span style=\"color: #000080; text-decoration-color: #000080\">╭─────────────────────────────────────────────────── 🧑 Human ────────────────────────────────────────────────────╮</span>\n",
       "<span style=\"color: #000080; text-decoration-color: #000080\">│</span> What is 2 * 3 + 4 / 2?                                                                                          <span style=\"color: #000080; text-decoration-color: #000080\">│</span>\n",
       "<span style=\"color: #000080; text-decoration-color: #000080\">╰─────────────────────────────────────────────────────────────────────────────────────────────────────────────────╯</span>\n",
       "</pre>\n"
      ],
      "text/plain": [
       "\u001b[34m╭─\u001b[0m\u001b[34m──────────────────────────────────────────────────\u001b[0m\u001b[34m 🧑 Human \u001b[0m\u001b[34m───────────────────────────────────────────────────\u001b[0m\u001b[34m─╮\u001b[0m\n",
       "\u001b[34m│\u001b[0m What is 2 * 3 + 4 / 2?                                                                                          \u001b[34m│\u001b[0m\n",
       "\u001b[34m╰─────────────────────────────────────────────────────────────────────────────────────────────────────────────────╯\u001b[0m\n"
      ]
     },
     "metadata": {},
     "output_type": "display_data"
    },
    {
     "data": {
      "text/html": [
       "<pre style=\"white-space:pre;overflow-x:auto;line-height:normal;font-family:Menlo,'DejaVu Sans Mono',consolas,'Courier New',monospace\"><span style=\"color: #c0c0c0; text-decoration-color: #c0c0c0\">╭───────────────────────────────────────────────────── 📝 AI ─────────────────────────────────────────────────────╮</span>\n",
       "<span style=\"color: #c0c0c0; text-decoration-color: #c0c0c0\">│</span>                                                                                                                 <span style=\"color: #c0c0c0; text-decoration-color: #c0c0c0\">│</span>\n",
       "<span style=\"color: #c0c0c0; text-decoration-color: #c0c0c0\">│</span>                                                                                                                 <span style=\"color: #c0c0c0; text-decoration-color: #c0c0c0\">│</span>\n",
       "<span style=\"color: #c0c0c0; text-decoration-color: #c0c0c0\">│</span> 🔧 Tool Call: calculator_wstate                                                                                 <span style=\"color: #c0c0c0; text-decoration-color: #c0c0c0\">│</span>\n",
       "<span style=\"color: #c0c0c0; text-decoration-color: #c0c0c0\">│</span>    Args: {                                                                                                      <span style=\"color: #c0c0c0; text-decoration-color: #c0c0c0\">│</span>\n",
       "<span style=\"color: #c0c0c0; text-decoration-color: #c0c0c0\">│</span>   \"a\": 2,                                                                                                       <span style=\"color: #c0c0c0; text-decoration-color: #c0c0c0\">│</span>\n",
       "<span style=\"color: #c0c0c0; text-decoration-color: #c0c0c0\">│</span>   \"b\": 3,                                                                                                       <span style=\"color: #c0c0c0; text-decoration-color: #c0c0c0\">│</span>\n",
       "<span style=\"color: #c0c0c0; text-decoration-color: #c0c0c0\">│</span>   \"operation\": \"multiply\"                                                                                       <span style=\"color: #c0c0c0; text-decoration-color: #c0c0c0\">│</span>\n",
       "<span style=\"color: #c0c0c0; text-decoration-color: #c0c0c0\">│</span> }                                                                                                               <span style=\"color: #c0c0c0; text-decoration-color: #c0c0c0\">│</span>\n",
       "<span style=\"color: #c0c0c0; text-decoration-color: #c0c0c0\">│</span>    ID: g1bed7ybm                                                                                                <span style=\"color: #c0c0c0; text-decoration-color: #c0c0c0\">│</span>\n",
       "<span style=\"color: #c0c0c0; text-decoration-color: #c0c0c0\">│</span>                                                                                                                 <span style=\"color: #c0c0c0; text-decoration-color: #c0c0c0\">│</span>\n",
       "<span style=\"color: #c0c0c0; text-decoration-color: #c0c0c0\">│</span> 🔧 Tool Call: calculator_wstate                                                                                 <span style=\"color: #c0c0c0; text-decoration-color: #c0c0c0\">│</span>\n",
       "<span style=\"color: #c0c0c0; text-decoration-color: #c0c0c0\">│</span>    Args: {                                                                                                      <span style=\"color: #c0c0c0; text-decoration-color: #c0c0c0\">│</span>\n",
       "<span style=\"color: #c0c0c0; text-decoration-color: #c0c0c0\">│</span>   \"a\": 4,                                                                                                       <span style=\"color: #c0c0c0; text-decoration-color: #c0c0c0\">│</span>\n",
       "<span style=\"color: #c0c0c0; text-decoration-color: #c0c0c0\">│</span>   \"b\": 2,                                                                                                       <span style=\"color: #c0c0c0; text-decoration-color: #c0c0c0\">│</span>\n",
       "<span style=\"color: #c0c0c0; text-decoration-color: #c0c0c0\">│</span>   \"operation\": \"divide\"                                                                                         <span style=\"color: #c0c0c0; text-decoration-color: #c0c0c0\">│</span>\n",
       "<span style=\"color: #c0c0c0; text-decoration-color: #c0c0c0\">│</span> }                                                                                                               <span style=\"color: #c0c0c0; text-decoration-color: #c0c0c0\">│</span>\n",
       "<span style=\"color: #c0c0c0; text-decoration-color: #c0c0c0\">│</span>    ID: c1r42pfkq                                                                                                <span style=\"color: #c0c0c0; text-decoration-color: #c0c0c0\">│</span>\n",
       "<span style=\"color: #c0c0c0; text-decoration-color: #c0c0c0\">│</span>                                                                                                                 <span style=\"color: #c0c0c0; text-decoration-color: #c0c0c0\">│</span>\n",
       "<span style=\"color: #c0c0c0; text-decoration-color: #c0c0c0\">│</span> 🔧 Tool Call: calculator_wstate                                                                                 <span style=\"color: #c0c0c0; text-decoration-color: #c0c0c0\">│</span>\n",
       "<span style=\"color: #c0c0c0; text-decoration-color: #c0c0c0\">│</span>    Args: {                                                                                                      <span style=\"color: #c0c0c0; text-decoration-color: #c0c0c0\">│</span>\n",
       "<span style=\"color: #c0c0c0; text-decoration-color: #c0c0c0\">│</span>   \"a\": 6,                                                                                                       <span style=\"color: #c0c0c0; text-decoration-color: #c0c0c0\">│</span>\n",
       "<span style=\"color: #c0c0c0; text-decoration-color: #c0c0c0\">│</span>   \"b\": 2,                                                                                                       <span style=\"color: #c0c0c0; text-decoration-color: #c0c0c0\">│</span>\n",
       "<span style=\"color: #c0c0c0; text-decoration-color: #c0c0c0\">│</span>   \"operation\": \"add\"                                                                                            <span style=\"color: #c0c0c0; text-decoration-color: #c0c0c0\">│</span>\n",
       "<span style=\"color: #c0c0c0; text-decoration-color: #c0c0c0\">│</span> }                                                                                                               <span style=\"color: #c0c0c0; text-decoration-color: #c0c0c0\">│</span>\n",
       "<span style=\"color: #c0c0c0; text-decoration-color: #c0c0c0\">│</span>    ID: mk7xjphcp                                                                                                <span style=\"color: #c0c0c0; text-decoration-color: #c0c0c0\">│</span>\n",
       "<span style=\"color: #c0c0c0; text-decoration-color: #c0c0c0\">╰─────────────────────────────────────────────────────────────────────────────────────────────────────────────────╯</span>\n",
       "</pre>\n"
      ],
      "text/plain": [
       "\u001b[37m╭─\u001b[0m\u001b[37m────────────────────────────────────────────────────\u001b[0m\u001b[37m 📝 AI \u001b[0m\u001b[37m────────────────────────────────────────────────────\u001b[0m\u001b[37m─╮\u001b[0m\n",
       "\u001b[37m│\u001b[0m                                                                                                                 \u001b[37m│\u001b[0m\n",
       "\u001b[37m│\u001b[0m                                                                                                                 \u001b[37m│\u001b[0m\n",
       "\u001b[37m│\u001b[0m 🔧 Tool Call: calculator_wstate                                                                                 \u001b[37m│\u001b[0m\n",
       "\u001b[37m│\u001b[0m    Args: {                                                                                                      \u001b[37m│\u001b[0m\n",
       "\u001b[37m│\u001b[0m   \"a\": 2,                                                                                                       \u001b[37m│\u001b[0m\n",
       "\u001b[37m│\u001b[0m   \"b\": 3,                                                                                                       \u001b[37m│\u001b[0m\n",
       "\u001b[37m│\u001b[0m   \"operation\": \"multiply\"                                                                                       \u001b[37m│\u001b[0m\n",
       "\u001b[37m│\u001b[0m }                                                                                                               \u001b[37m│\u001b[0m\n",
       "\u001b[37m│\u001b[0m    ID: g1bed7ybm                                                                                                \u001b[37m│\u001b[0m\n",
       "\u001b[37m│\u001b[0m                                                                                                                 \u001b[37m│\u001b[0m\n",
       "\u001b[37m│\u001b[0m 🔧 Tool Call: calculator_wstate                                                                                 \u001b[37m│\u001b[0m\n",
       "\u001b[37m│\u001b[0m    Args: {                                                                                                      \u001b[37m│\u001b[0m\n",
       "\u001b[37m│\u001b[0m   \"a\": 4,                                                                                                       \u001b[37m│\u001b[0m\n",
       "\u001b[37m│\u001b[0m   \"b\": 2,                                                                                                       \u001b[37m│\u001b[0m\n",
       "\u001b[37m│\u001b[0m   \"operation\": \"divide\"                                                                                         \u001b[37m│\u001b[0m\n",
       "\u001b[37m│\u001b[0m }                                                                                                               \u001b[37m│\u001b[0m\n",
       "\u001b[37m│\u001b[0m    ID: c1r42pfkq                                                                                                \u001b[37m│\u001b[0m\n",
       "\u001b[37m│\u001b[0m                                                                                                                 \u001b[37m│\u001b[0m\n",
       "\u001b[37m│\u001b[0m 🔧 Tool Call: calculator_wstate                                                                                 \u001b[37m│\u001b[0m\n",
       "\u001b[37m│\u001b[0m    Args: {                                                                                                      \u001b[37m│\u001b[0m\n",
       "\u001b[37m│\u001b[0m   \"a\": 6,                                                                                                       \u001b[37m│\u001b[0m\n",
       "\u001b[37m│\u001b[0m   \"b\": 2,                                                                                                       \u001b[37m│\u001b[0m\n",
       "\u001b[37m│\u001b[0m   \"operation\": \"add\"                                                                                            \u001b[37m│\u001b[0m\n",
       "\u001b[37m│\u001b[0m }                                                                                                               \u001b[37m│\u001b[0m\n",
       "\u001b[37m│\u001b[0m    ID: mk7xjphcp                                                                                                \u001b[37m│\u001b[0m\n",
       "\u001b[37m╰─────────────────────────────────────────────────────────────────────────────────────────────────────────────────╯\u001b[0m\n"
      ]
     },
     "metadata": {},
     "output_type": "display_data"
    },
    {
     "data": {
      "text/html": [
       "<pre style=\"white-space:pre;overflow-x:auto;line-height:normal;font-family:Menlo,'DejaVu Sans Mono',consolas,'Courier New',monospace\"><span style=\"color: #808000; text-decoration-color: #808000\">╭──────────────────────────────────────────────── 🔧 Tool Output ─────────────────────────────────────────────────╮</span>\n",
       "<span style=\"color: #808000; text-decoration-color: #808000\">│</span> 6                                                                                                               <span style=\"color: #808000; text-decoration-color: #808000\">│</span>\n",
       "<span style=\"color: #808000; text-decoration-color: #808000\">╰─────────────────────────────────────────────────────────────────────────────────────────────────────────────────╯</span>\n",
       "</pre>\n"
      ],
      "text/plain": [
       "\u001b[33m╭─\u001b[0m\u001b[33m───────────────────────────────────────────────\u001b[0m\u001b[33m 🔧 Tool Output \u001b[0m\u001b[33m────────────────────────────────────────────────\u001b[0m\u001b[33m─╮\u001b[0m\n",
       "\u001b[33m│\u001b[0m 6                                                                                                               \u001b[33m│\u001b[0m\n",
       "\u001b[33m╰─────────────────────────────────────────────────────────────────────────────────────────────────────────────────╯\u001b[0m\n"
      ]
     },
     "metadata": {},
     "output_type": "display_data"
    },
    {
     "data": {
      "text/html": [
       "<pre style=\"white-space:pre;overflow-x:auto;line-height:normal;font-family:Menlo,'DejaVu Sans Mono',consolas,'Courier New',monospace\"><span style=\"color: #808000; text-decoration-color: #808000\">╭──────────────────────────────────────────────── 🔧 Tool Output ─────────────────────────────────────────────────╮</span>\n",
       "<span style=\"color: #808000; text-decoration-color: #808000\">│</span> 2.0                                                                                                             <span style=\"color: #808000; text-decoration-color: #808000\">│</span>\n",
       "<span style=\"color: #808000; text-decoration-color: #808000\">╰─────────────────────────────────────────────────────────────────────────────────────────────────────────────────╯</span>\n",
       "</pre>\n"
      ],
      "text/plain": [
       "\u001b[33m╭─\u001b[0m\u001b[33m───────────────────────────────────────────────\u001b[0m\u001b[33m 🔧 Tool Output \u001b[0m\u001b[33m────────────────────────────────────────────────\u001b[0m\u001b[33m─╮\u001b[0m\n",
       "\u001b[33m│\u001b[0m 2.0                                                                                                             \u001b[33m│\u001b[0m\n",
       "\u001b[33m╰─────────────────────────────────────────────────────────────────────────────────────────────────────────────────╯\u001b[0m\n"
      ]
     },
     "metadata": {},
     "output_type": "display_data"
    },
    {
     "data": {
      "text/html": [
       "<pre style=\"white-space:pre;overflow-x:auto;line-height:normal;font-family:Menlo,'DejaVu Sans Mono',consolas,'Courier New',monospace\"><span style=\"color: #808000; text-decoration-color: #808000\">╭──────────────────────────────────────────────── 🔧 Tool Output ─────────────────────────────────────────────────╮</span>\n",
       "<span style=\"color: #808000; text-decoration-color: #808000\">│</span> 8                                                                                                               <span style=\"color: #808000; text-decoration-color: #808000\">│</span>\n",
       "<span style=\"color: #808000; text-decoration-color: #808000\">╰─────────────────────────────────────────────────────────────────────────────────────────────────────────────────╯</span>\n",
       "</pre>\n"
      ],
      "text/plain": [
       "\u001b[33m╭─\u001b[0m\u001b[33m───────────────────────────────────────────────\u001b[0m\u001b[33m 🔧 Tool Output \u001b[0m\u001b[33m────────────────────────────────────────────────\u001b[0m\u001b[33m─╮\u001b[0m\n",
       "\u001b[33m│\u001b[0m 8                                                                                                               \u001b[33m│\u001b[0m\n",
       "\u001b[33m╰─────────────────────────────────────────────────────────────────────────────────────────────────────────────────╯\u001b[0m\n"
      ]
     },
     "metadata": {},
     "output_type": "display_data"
    },
    {
     "data": {
      "text/html": [
       "<pre style=\"white-space:pre;overflow-x:auto;line-height:normal;font-family:Menlo,'DejaVu Sans Mono',consolas,'Courier New',monospace\"><span style=\"color: #c0c0c0; text-decoration-color: #c0c0c0\">╭───────────────────────────────────────────────────── 📝 AI ─────────────────────────────────────────────────────╮</span>\n",
       "<span style=\"color: #c0c0c0; text-decoration-color: #c0c0c0\">│</span> The result of the calculation $2 \\times 3 + 4 \\div 2$ is **8**.                                                 <span style=\"color: #c0c0c0; text-decoration-color: #c0c0c0\">│</span>\n",
       "<span style=\"color: #c0c0c0; text-decoration-color: #c0c0c0\">│</span>                                                                                                                 <span style=\"color: #c0c0c0; text-decoration-color: #c0c0c0\">│</span>\n",
       "<span style=\"color: #c0c0c0; text-decoration-color: #c0c0c0\">│</span> **Step-by-Step Explanation:**                                                                                   <span style=\"color: #c0c0c0; text-decoration-color: #c0c0c0\">│</span>\n",
       "<span style=\"color: #c0c0c0; text-decoration-color: #c0c0c0\">│</span> 1. **Multiplication:** $2 \\times 3 = 6$                                                                         <span style=\"color: #c0c0c0; text-decoration-color: #c0c0c0\">│</span>\n",
       "<span style=\"color: #c0c0c0; text-decoration-color: #c0c0c0\">│</span> 2. **Division:** $4 \\div 2 = 2.0$                                                                               <span style=\"color: #c0c0c0; text-decoration-color: #c0c0c0\">│</span>\n",
       "<span style=\"color: #c0c0c0; text-decoration-color: #c0c0c0\">│</span> 3. **Addition:** $6 + 2.0 = 8$                                                                                  <span style=\"color: #c0c0c0; text-decoration-color: #c0c0c0\">│</span>\n",
       "<span style=\"color: #c0c0c0; text-decoration-color: #c0c0c0\">╰─────────────────────────────────────────────────────────────────────────────────────────────────────────────────╯</span>\n",
       "</pre>\n"
      ],
      "text/plain": [
       "\u001b[37m╭─\u001b[0m\u001b[37m────────────────────────────────────────────────────\u001b[0m\u001b[37m 📝 AI \u001b[0m\u001b[37m────────────────────────────────────────────────────\u001b[0m\u001b[37m─╮\u001b[0m\n",
       "\u001b[37m│\u001b[0m The result of the calculation $2 \\times 3 + 4 \\div 2$ is **8**.                                                 \u001b[37m│\u001b[0m\n",
       "\u001b[37m│\u001b[0m                                                                                                                 \u001b[37m│\u001b[0m\n",
       "\u001b[37m│\u001b[0m **Step-by-Step Explanation:**                                                                                   \u001b[37m│\u001b[0m\n",
       "\u001b[37m│\u001b[0m 1. **Multiplication:** $2 \\times 3 = 6$                                                                         \u001b[37m│\u001b[0m\n",
       "\u001b[37m│\u001b[0m 2. **Division:** $4 \\div 2 = 2.0$                                                                               \u001b[37m│\u001b[0m\n",
       "\u001b[37m│\u001b[0m 3. **Addition:** $6 + 2.0 = 8$                                                                                  \u001b[37m│\u001b[0m\n",
       "\u001b[37m╰─────────────────────────────────────────────────────────────────────────────────────────────────────────────────╯\u001b[0m\n"
      ]
     },
     "metadata": {},
     "output_type": "display_data"
    }
   ],
   "source": [
    "# Example usage\n",
    "result3 = agent.invoke(\n",
    "    {\n",
    "        \"messages\": [\n",
    "            {\n",
    "                \"role\": \"user\",\n",
    "                \"content\": \"What is 2 * 3 + 4 / 2?\",\n",
    "            }\n",
    "        ],\n",
    "    }\n",
    ")\n",
    "\n",
    "format_messages(result3[\"messages\"])"
   ]
  },
  {
   "cell_type": "code",
   "execution_count": 31,
   "id": "f436d9ff",
   "metadata": {},
   "outputs": [
    {
     "data": {
      "text/plain": [
       "{'messages': [HumanMessage(content='What is 2 * 3 + 4 / 2?', additional_kwargs={}, response_metadata={}, id='0e8b8d2e-eeab-4577-a176-a0d7497567f3'),\n",
       "  AIMessage(content='', additional_kwargs={'tool_calls': [{'id': 'g1bed7ybm', 'function': {'arguments': '{\"a\":2,\"b\":3,\"operation\":\"multiply\"}', 'name': 'calculator_wstate'}, 'type': 'function'}, {'id': 'c1r42pfkq', 'function': {'arguments': '{\"a\":4,\"b\":2,\"operation\":\"divide\"}', 'name': 'calculator_wstate'}, 'type': 'function'}, {'id': 'mk7xjphcp', 'function': {'arguments': '{\"a\":6,\"b\":2,\"operation\":\"add\"}', 'name': 'calculator_wstate'}, 'type': 'function'}]}, response_metadata={'token_usage': {'completion_tokens': 434, 'prompt_tokens': 369, 'total_tokens': 803, 'completion_time': 0.789467686, 'prompt_time': 0.023325779, 'queue_time': 0.199114384, 'total_time': 0.812793465}, 'model_name': 'qwen/qwen3-32b', 'system_fingerprint': 'fp_5cf921caa2', 'finish_reason': 'tool_calls', 'logprobs': None}, id='run--982ae661-6e54-4288-95e8-5a7d4452d8d3-0', tool_calls=[{'name': 'calculator_wstate', 'args': {'a': 2, 'b': 3, 'operation': 'multiply'}, 'id': 'g1bed7ybm', 'type': 'tool_call'}, {'name': 'calculator_wstate', 'args': {'a': 4, 'b': 2, 'operation': 'divide'}, 'id': 'c1r42pfkq', 'type': 'tool_call'}, {'name': 'calculator_wstate', 'args': {'a': 6, 'b': 2, 'operation': 'add'}, 'id': 'mk7xjphcp', 'type': 'tool_call'}], usage_metadata={'input_tokens': 369, 'output_tokens': 434, 'total_tokens': 803}),\n",
       "  ToolMessage(content='6', name='calculator_wstate', id='0c277085-1279-4129-b154-c1b3f6e53d6d', tool_call_id='g1bed7ybm'),\n",
       "  ToolMessage(content='2.0', name='calculator_wstate', id='3ed70b70-6b70-4328-ac9e-f6e50a7985e7', tool_call_id='c1r42pfkq'),\n",
       "  ToolMessage(content='8', name='calculator_wstate', id='c1927328-68cf-4f58-a3cd-0aff36fbf222', tool_call_id='mk7xjphcp'),\n",
       "  AIMessage(content='The result of the calculation $2 \\\\times 3 + 4 \\\\div 2$ is **8**. \\n\\n**Step-by-Step Explanation:**\\n1. **Multiplication:** $2 \\\\times 3 = 6$\\n2. **Division:** $4 \\\\div 2 = 2.0$\\n3. **Addition:** $6 + 2.0 = 8$', additional_kwargs={}, response_metadata={'token_usage': {'completion_tokens': 311, 'prompt_tokens': 496, 'total_tokens': 807, 'completion_time': 0.578826711, 'prompt_time': 0.028365248, 'queue_time': 0.199673108, 'total_time': 0.607191959}, 'model_name': 'qwen/qwen3-32b', 'system_fingerprint': 'fp_5cf921caa2', 'finish_reason': 'stop', 'logprobs': None}, id='run--8ea402df-6eb3-4618-9a6a-c42e8093c04a-0', usage_metadata={'input_tokens': 496, 'output_tokens': 311, 'total_tokens': 807})],\n",
       " 'ops': ['(multiply, 2, 3),', '(divide, 4, 2),', '(add, 6, 2),']}"
      ]
     },
     "execution_count": 31,
     "metadata": {},
     "output_type": "execute_result"
    }
   ],
   "source": [
    "result3"
   ]
  },
  {
   "cell_type": "code",
   "execution_count": null,
   "id": "34955893",
   "metadata": {},
   "outputs": [],
   "source": []
  }
 ],
 "metadata": {
  "kernelspec": {
   "display_name": "AI_Labs",
   "language": "python",
   "name": "python3"
  },
  "language_info": {
   "codemirror_mode": {
    "name": "ipython",
    "version": 3
   },
   "file_extension": ".py",
   "mimetype": "text/x-python",
   "name": "python",
   "nbconvert_exporter": "python",
   "pygments_lexer": "ipython3",
   "version": "3.12.6"
  }
 },
 "nbformat": 4,
 "nbformat_minor": 5
}
