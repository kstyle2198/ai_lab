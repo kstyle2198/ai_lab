{
 "cells": [
  {
   "cell_type": "code",
   "execution_count": 3,
   "id": "e7adb356",
   "metadata": {},
   "outputs": [],
   "source": [
    "import os\n",
    "\n",
    "folder_path = 'C:/Users/jongb/Desktop/안전데이터/사고사례'\n",
    "\n",
    "for idx, filename in enumerate(os.listdir(folder_path)):\n",
    "    old_path = os.path.join(folder_path, filename)\n",
    "    if os.path.isfile(old_path):\n",
    "        new_filename = f\"사고사례_{idx}.pdf\"\n",
    "        new_path = os.path.join(folder_path, new_filename)\n",
    "        os.rename(old_path, new_path)\n"
   ]
  },
  {
   "cell_type": "code",
   "execution_count": null,
   "id": "074b3d4d",
   "metadata": {},
   "outputs": [],
   "source": []
  },
  {
   "cell_type": "code",
   "execution_count": null,
   "id": "f91a89a2",
   "metadata": {},
   "outputs": [],
   "source": []
  }
 ],
 "metadata": {
  "kernelspec": {
   "display_name": ".venv",
   "language": "python",
   "name": "python3"
  },
  "language_info": {
   "codemirror_mode": {
    "name": "ipython",
    "version": 3
   },
   "file_extension": ".py",
   "mimetype": "text/x-python",
   "name": "python",
   "nbconvert_exporter": "python",
   "pygments_lexer": "ipython3",
   "version": "3.12.6"
  }
 },
 "nbformat": 4,
 "nbformat_minor": 5
}
