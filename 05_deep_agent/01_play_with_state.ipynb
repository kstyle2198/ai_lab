{
 "cells": [
  {
   "cell_type": "code",
   "execution_count": 5,
   "id": "8c4dd9c0",
   "metadata": {},
   "outputs": [],
   "source": [
    "from IPython.core.interactiveshell import InteractiveShell\n",
    "InteractiveShell.ast_node_interactivity = \"all\""
   ]
  },
  {
   "cell_type": "code",
   "execution_count": 6,
   "id": "d3abe893",
   "metadata": {},
   "outputs": [
    {
     "data": {
      "text/plain": [
       "<langgraph.graph.state.StateGraph at 0x294729286e0>"
      ]
     },
     "execution_count": 6,
     "metadata": {},
     "output_type": "execute_result"
    },
    {
     "data": {
      "text/plain": [
       "<langgraph.graph.state.StateGraph at 0x294729286e0>"
      ]
     },
     "execution_count": 6,
     "metadata": {},
     "output_type": "execute_result"
    },
    {
     "data": {
      "text/plain": [
       "<langgraph.graph.state.StateGraph at 0x294729286e0>"
      ]
     },
     "execution_count": 6,
     "metadata": {},
     "output_type": "execute_result"
    },
    {
     "data": {
      "image/png": "[encoded data removed]",
      "text/plain": [
       "<langgraph.graph.state.CompiledStateGraph object at 0x0000029474E4A210>"
      ]
     },
     "execution_count": 6,
     "metadata": {},
     "output_type": "execute_result"
    },
    {
     "name": "stdout",
     "output_type": "stream",
     "text": [
      "Adding 1 to 0 => 1\n",
      "Final state: {'number': 1}\n"
     ]
    }
   ],
   "source": [
    "from langgraph.graph import StateGraph, END\n",
    "from typing import TypedDict\n",
    "\n",
    "# 1. 상태 정의\n",
    "class State(TypedDict):\n",
    "    number: int\n",
    "\n",
    "# 2. 상태 업데이트 함수 (노드)\n",
    "def add_one(state: State) -> State:\n",
    "    new_number = state[\"number\"] + 1\n",
    "    print(f\"Adding 1 to {state['number']} => {new_number}\")\n",
    "    return {\"number\": new_number}\n",
    "\n",
    "# 3. 그래프 정의\n",
    "builder = StateGraph(State)\n",
    "\n",
    "# 노드 등록\n",
    "builder.add_node(\"increment\", add_one)\n",
    "\n",
    "# 노드 연결\n",
    "builder.set_entry_point(\"increment\")     # 시작 지점\n",
    "builder.set_finish_point(\"increment\")    # 종료 지점\n",
    "\n",
    "# 4. 그래프 빌드\n",
    "graph = builder.compile()\n",
    "graph\n",
    "\n",
    "\n",
    "# 5. 실행\n",
    "initial_state = {\"number\": 0}\n",
    "final_state = graph.invoke(initial_state)\n",
    "\n",
    "print(\"Final state:\", final_state)\n"
   ]
  },
  {
   "cell_type": "code",
   "execution_count": null,
   "id": "efd8ae23",
   "metadata": {},
   "outputs": [],
   "source": [
    "\n"
   ]
  },
  {
   "cell_type": "code",
   "execution_count": null,
   "id": "bd39ea53",
   "metadata": {},
   "outputs": [],
   "source": []
  },
  {
   "cell_type": "code",
   "execution_count": null,
   "id": "97807fbb",
   "metadata": {},
   "outputs": [],
   "source": []
  },
  {
   "cell_type": "code",
   "execution_count": null,
   "id": "a29eef2b",
   "metadata": {},
   "outputs": [],
   "source": []
  }
 ],
 "metadata": {
  "kernelspec": {
   "display_name": "AI_Labs",
   "language": "python",
   "name": "python3"
  },
  "language_info": {
   "codemirror_mode": {
    "name": "ipython",
    "version": 3
   },
   "file_extension": ".py",
   "mimetype": "text/x-python",
   "name": "python",
   "nbconvert_exporter": "python",
   "pygments_lexer": "ipython3",
   "version": "3.12.6"
  }
 },
 "nbformat": 4,
 "nbformat_minor": 5
}
