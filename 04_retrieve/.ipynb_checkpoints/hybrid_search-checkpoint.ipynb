{
 "cells": [
  {
   "cell_type": "code",
   "execution_count": 8,
   "id": "a0de0349-3285-4039-8a22-bc56775fbace",
   "metadata": {},
   "outputs": [],
   "source": [
    "from typing import Union, List\n",
    "from langchain_ollama import OllamaEmbeddings\n",
    "from langchain_elasticsearch import ElasticsearchStore, DenseVectorStrategy\n",
    "\n",
    "def load_elastic_vectorstore(index_names: Union[str, List[str]]):\n",
    "    # 단일 문자열인 경우 리스트로 변환\n",
    "    if isinstance(index_names, str):\n",
    "        index_names = [index_names]\n",
    "    \n",
    "    vector_store = ElasticsearchStore(\n",
    "        index_name=index_names, \n",
    "        embedding=OllamaEmbeddings(\n",
    "            base_url=\"http://localhost:11434\", \n",
    "            model=\"bge-m3:latest\"\n",
    "        ), \n",
    "        es_url=\"http://localhost:9200\",\n",
    "        es_user=\"Kstyle\",\n",
    "        es_password=\"12345\",\n",
    "        # strategy=DenseVectorStrategy(hybrid=True)\n",
    "    )\n",
    "    return vector_store\n",
    "\n",
    "\n",
    "index_names = [\"ship_safety\"]\n",
    "vector_store = load_elastic_vectorstore(index_names=index_names)"
   ]
  },
  {
   "cell_type": "code",
   "execution_count": 9,
   "id": "530d9caa-6e89-45fe-a3ee-44a09a6ebb35",
   "metadata": {},
   "outputs": [
    {
     "data": {
      "text/plain": [
       "[Document(metadata={'filename': '안전보건 실무길잡이_선박건조 및 수리업.pdf', 'page': '32'}, page_content='This page explains 안전보건 실무길잡이_선박건조 및 수리업 that belongs to 안전 and  가이드 categories.\\n<!-- image -->\\n\\n## Check Box\\n\\n## 용어의 정의\\n\\n- 사업주는 산업재해 조사표에 근로자 대표의 확인올 받아야 하여, 그 기재 내용에 대하여\\n- 산업재해가 발생한 경우 다음 사항울 기록하고 3년간 보존한다.\\n- 사업장의 개요 및 근로자의 인적사항, 재해 발생의 일시 및 장소 재해 발생의 원인 및 과정, 재해 재발방지 계획\\n- 하는 경우 갈음활 수있음\\n\\n## 중대재해\\n\\n0 사망자가 1명 이상 발생한 재해   0 3개월 이상의 요양이 필요한 부상자가 동시에 2명 이상 발생한 재해 부상자 또는 직업성 질병자가 동시에 10명 이상 발생한 재해름 말한다.\\n\\n## 지체없이\\n\\n정당한 사유재해 등으로 인한 통신수단의 이용이 곤란하거나 재해자 응급구호; 2차 재해 재발방지루 위한 조치\\n\\n## 3일 이상의 휴업\\n\\n(휴업일수에 사고 발생일은 포함되지 않으나 법정공휴일 또는 근로 제공 의무가 없는 휴무일은 포함)\\n\\n## 작업중지 요건\\n\\n0 고용노동부장관은 . (중락).. 해당 사업장에 산재가 다시 발생할 급박한 위험이 있다고 판단 되는 경우 그 작업의 중지름 명할 수 있음\\n\\n- 중대재해가 발생한 해당 직업 중대재해가 발생한 작업과 동일한 작업\\n\\n0고용노동부장관은 토사 구축물의봉과 화재 폭발 유해하거나 위험한 물질의 누출 등으로 인해 중대재해가 발생해 . (중락). 확산월 수 있다고 판단되는 등 불가피한 경우 해당사업장의\\n\\n<!-- image -->'),\n",
       " Document(metadata={'filename': '중대재해 처벌 등에 관한 법률(법률)(제17907호)(20220127).pdf', 'page': '4'}, page_content='This page explains 중대재해 처벌 등에 관한 법률(법률)(제17907호)(20220127) that belongs to 안전 and  법령 categories.\\n- ② 제1항에도 불구하고 제16조는 공포한 날부터 시행한다.\\n- 제2조(다른 법률의 개정) 법원조직법 중 일부를 다음과 같이 개정한다.\\n- 제32조제1항제3호에 아목을 다음과 같이 신설한다.\\n- 아. 「중대재해 처벌 등에 관한 법률」 제6조제1항ㆍ제3항 및 제10조제1항에 해당하는 사건')]"
      ]
     },
     "execution_count": 9,
     "metadata": {},
     "output_type": "execute_result"
    }
   ],
   "source": [
    "results = vector_store.similarity_search(\n",
    "    query=\"중대재해의 정의\",\n",
    "    k=2,\n",
    "    # filter=[{\"term\": {\"metadata.lv1_cat.keyword\": \"안전\"}}],\n",
    ")\n",
    "results"
   ]
  },
  {
   "cell_type": "code",
   "execution_count": 10,
   "id": "4aa39d34-f080-4d97-8d1e-ffcd2cc4a39a",
   "metadata": {},
   "outputs": [
    {
     "data": {
      "text/plain": [
       "[Document(metadata={'filename': '안전보건 실무길잡이_선박건조 및 수리업.pdf', 'page': '32'}, page_content='This page explains 안전보건 실무길잡이_선박건조 및 수리업 that belongs to 안전 and  가이드 categories.\\n<!-- image -->\\n\\n## Check Box\\n\\n## 용어의 정의\\n\\n- 사업주는 산업재해 조사표에 근로자 대표의 확인올 받아야 하여, 그 기재 내용에 대하여\\n- 산업재해가 발생한 경우 다음 사항울 기록하고 3년간 보존한다.\\n- 사업장의 개요 및 근로자의 인적사항, 재해 발생의 일시 및 장소 재해 발생의 원인 및 과정, 재해 재발방지 계획\\n- 하는 경우 갈음활 수있음\\n\\n## 중대재해\\n\\n0 사망자가 1명 이상 발생한 재해   0 3개월 이상의 요양이 필요한 부상자가 동시에 2명 이상 발생한 재해 부상자 또는 직업성 질병자가 동시에 10명 이상 발생한 재해름 말한다.\\n\\n## 지체없이\\n\\n정당한 사유재해 등으로 인한 통신수단의 이용이 곤란하거나 재해자 응급구호; 2차 재해 재발방지루 위한 조치\\n\\n## 3일 이상의 휴업\\n\\n(휴업일수에 사고 발생일은 포함되지 않으나 법정공휴일 또는 근로 제공 의무가 없는 휴무일은 포함)\\n\\n## 작업중지 요건\\n\\n0 고용노동부장관은 . (중락).. 해당 사업장에 산재가 다시 발생할 급박한 위험이 있다고 판단 되는 경우 그 작업의 중지름 명할 수 있음\\n\\n- 중대재해가 발생한 해당 직업 중대재해가 발생한 작업과 동일한 작업\\n\\n0고용노동부장관은 토사 구축물의봉과 화재 폭발 유해하거나 위험한 물질의 누출 등으로 인해 중대재해가 발생해 . (중락). 확산월 수 있다고 판단되는 등 불가피한 경우 해당사업장의\\n\\n<!-- image -->'),\n",
       " Document(metadata={'filename': '중대재해 처벌 등에 관한 법률(법률)(제17907호)(20220127).pdf', 'page': '4'}, page_content='This page explains 중대재해 처벌 등에 관한 법률(법률)(제17907호)(20220127) that belongs to 안전 and  법령 categories.\\n- ② 제1항에도 불구하고 제16조는 공포한 날부터 시행한다.\\n- 제2조(다른 법률의 개정) 법원조직법 중 일부를 다음과 같이 개정한다.\\n- 제32조제1항제3호에 아목을 다음과 같이 신설한다.\\n- 아. 「중대재해 처벌 등에 관한 법률」 제6조제1항ㆍ제3항 및 제10조제1항에 해당하는 사건'),\n",
       " Document(metadata={'filename': '사고사례_16.pdf', 'page': '0'}, page_content='This page explains 사고사례_16 that belongs to 안전 and  사고사례 categories.\\n## 중 대 재 해 사 례\\n\\n(문의) 061-288-8732\\n\\n제공 : 한국산업안전보건공단 부산광역본부 조선업재해예방센터\\n\\n## 건조중인 FRP 선박 내부에서 원인 미상의 화재로 인해 화상을 입음\\n\\n## &lt; 재 해 개 요&gt;\\n\\n2023. 5. 12.(금) 금) 16:10경 전남 여수시 소재 ○○○ 사업장에서 어창내부 적층작업 중인 FRP 선박 내부에서 원인 미상의 화재가 발생하여 작업자 3명이 화상을 입고 치료하던 중 1명이 2023. 5. 17. 사망한 재해임\\n\\n## □ 사고형태 및 피해정도 : 화상 / 사망 1명 , 부상 2명\\n\\n【화재발생 장면】\\n\\n<!-- image -->\\n\\n## □ 동종재해 예방대책\\n\\n## m 화재예방조치 실시\\n\\n- -사업주는 인화성 액체의 증기가 존재하여 화재가 발생할 우려가 있는 장소에서는 폭발 또는 화재를 예방하기 위해 환풍기 , 배풍기 등 환기장치를 적절하게 설치해야 함 (인화성물질로 인한 화재폭발 분위기를 낮추기 위해 환기팬 등을 사용한 강제환기를 실시해야 함)\\n- -화재의 원인이 될 우려가 있는 물질을 취급하는 장소에는 소화설비를 설치해야 함 .\\n\\n## m 경화제 취급관리 철저\\n\\n- -이물질 혼입을 방지하기 위해 지정된 구역에서만 수지와 경화제를 혼합하고 , 경화제는 뚜껑이 있는 원래의 용기(또는 전용용기)에만 담아서 사용해야 하며 , 사용 후에는 밀 봉해야 함'),\n",
       " Document(metadata={'filename': '대법원 2023. 12. 28. 선고 2023도12316 판결.pdf', 'page': '3'}, page_content='This page explains 대법원 2023. 12. 28. 선고 2023도12316 판결 that belongs to 안전 and  판례 categories.\\n<!-- image -->\\n\\n따라서 중대재해처벌법 위반(산업재해치사)죄와 업무상과실치사죄 역시 행위의 동일성이 인정되어 상상적 경 합 관계에 있다 .\\n\\n나 . 결국 원심이 피고인들에 대한 쟁점 공소사실 부분을 상상적 경합 관계로 판단한 것은 정당하고 , 거기에 상고이유 주장과 같이 죄수 판단에 관한 법리를 오해하여 판결에 영향을 미친 잘못이 없다 . 3 . 나머지 부분에 관한 판단\\n\\n검사는 피고인들에 대한 원심판결 전부에 대하여 상고하였으나 , 안전조치 및 보건조치 불이행으로 인한 산업 안전보건법 위반 부분에 관하여는 상고장이나 상고이유서에 구체적인 불복이유의 기재가 없다 .\\n\\n## 4 . 결론\\n\\n상고를 모두 기각하기로 하여 , 관여 대법관의 일치된 의견으로 주문과 같이 판결한다 .\\n\\n## 대법관 노정희(재판장) 안철상 이흥구 오석준(주심)')]"
      ]
     },
     "execution_count": 10,
     "metadata": {},
     "output_type": "execute_result"
    }
   ],
   "source": [
    "retriever = vector_store.as_retriever(\n",
    "    search_type=\"similarity_score_threshold\", search_kwargs={\"score_threshold\": 0.6}\n",
    ")\n",
    "retriever.invoke(\"중대재해의 정의\")"
   ]
  },
  {
   "cell_type": "code",
   "execution_count": null,
   "id": "bd2abe92-8992-46bc-8343-cde90ea3dde3",
   "metadata": {},
   "outputs": [],
   "source": []
  },
  {
   "cell_type": "code",
   "execution_count": null,
   "id": "2b3f463f-f296-40b6-a567-fcd63e1b02ac",
   "metadata": {},
   "outputs": [],
   "source": []
  },
  {
   "cell_type": "code",
   "execution_count": null,
   "id": "bd6c19bd-889d-42d1-87fe-8f1545494f89",
   "metadata": {},
   "outputs": [],
   "source": []
  }
 ],
 "metadata": {
  "kernelspec": {
   "display_name": "Python 3 (ipykernel)",
   "language": "python",
   "name": "python3"
  },
  "language_info": {
   "codemirror_mode": {
    "name": "ipython",
    "version": 3
   },
   "file_extension": ".py",
   "mimetype": "text/x-python",
   "name": "python",
   "nbconvert_exporter": "python",
   "pygments_lexer": "ipython3",
   "version": "3.12.6"
  }
 },
 "nbformat": 4,
 "nbformat_minor": 5
}
